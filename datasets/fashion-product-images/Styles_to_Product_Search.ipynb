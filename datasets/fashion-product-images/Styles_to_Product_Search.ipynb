{
 "cells": [
  {
   "cell_type": "code",
   "execution_count": 9,
   "metadata": {},
   "outputs": [],
   "source": [
    "import pandas as pd\n",
    "import numpy as np"
   ]
  },
  {
   "cell_type": "code",
   "execution_count": 10,
   "metadata": {},
   "outputs": [],
   "source": [
    "gcs_images_prefix = 'gs://kolban-fashion-products/fashion-dataset/images'\n",
    "product_set_id    = 'my_product_set'"
   ]
  },
  {
   "cell_type": "code",
   "execution_count": 11,
   "metadata": {},
   "outputs": [],
   "source": [
    "# Define a function which takes a data frame and writes that as a Product Search representation CSV\n",
    "# Inputs:\n",
    "# data: The data to write\n",
    "# fileName: The file to write\n",
    "def writeProductSearchCSV(data, fileName):\n",
    "    new = pd.DataFrame()\n",
    "    new['image-uri']            = gcs_images_prefix + \"/\" + data['id'].astype(str) + \".jpg\"\n",
    "    new['image-id']             = ''\n",
    "    new['product-set-id']       = product_set_id\n",
    "    new['product-id']           = data['id']\n",
    "    new['product-category']     = 'apparel-v2'\n",
    "    new['product-display-name'] = data['productDisplayName']\n",
    "    new['labels']               = ''\n",
    "    new['bounding-poly']        = ''\n",
    "    new.to_csv(fileName, index=False)"
   ]
  },
  {
   "cell_type": "code",
   "execution_count": 12,
   "metadata": {
    "tags": []
   },
   "outputs": [
    {
     "output_type": "stream",
     "name": "stderr",
     "text": "b'Skipping line 6044: expected 10 fields, saw 11\\nSkipping line 6569: expected 10 fields, saw 11\\nSkipping line 7399: expected 10 fields, saw 11\\nSkipping line 7939: expected 10 fields, saw 11\\nSkipping line 9026: expected 10 fields, saw 11\\nSkipping line 10264: expected 10 fields, saw 11\\nSkipping line 10427: expected 10 fields, saw 11\\nSkipping line 10905: expected 10 fields, saw 11\\nSkipping line 11373: expected 10 fields, saw 11\\nSkipping line 11945: expected 10 fields, saw 11\\nSkipping line 14112: expected 10 fields, saw 11\\nSkipping line 14532: expected 10 fields, saw 11\\nSkipping line 15076: expected 10 fields, saw 12\\nSkipping line 29906: expected 10 fields, saw 11\\nSkipping line 31625: expected 10 fields, saw 11\\nSkipping line 33020: expected 10 fields, saw 11\\nSkipping line 35748: expected 10 fields, saw 11\\nSkipping line 35962: expected 10 fields, saw 11\\nSkipping line 37770: expected 10 fields, saw 11\\nSkipping line 38105: expected 10 fields, saw 11\\nSkipping line 38275: expected 10 fields, saw 11\\nSkipping line 38404: expected 10 fields, saw 12\\n'\nWriting from 0 to 9999\nWriting from 10000 to 19999\nWriting from 20000 to 29999\nWriting from 30000 to 39999\nWriting from 40000 to 44424\n"
    }
   ],
   "source": [
    "data = pd.read_csv('styles.csv',error_bad_lines=False)\n",
    "# We truncate down to 19500 entries because the CSV can only contain 20,000 entries at one time.\n",
    "# Test with only 2000 entries\n",
    "size   = len(data.index)\n",
    "offset = 0\n",
    "batch  = 10000\n",
    "while offset < size:\n",
    "    toValue = offset+batch-1 if (offset+batch-1) < size else size\n",
    "    print(\"Writing from {} to {}\".format(offset, toValue))\n",
    "\n",
    "    current = data.truncate(before=offset, after=toValue)\n",
    "    #print(current)\n",
    "    writeProductSearchCSV(current, \"{}_{}.csv\".format(offset, toValue));\n",
    "    offset = offset + batch\n"
   ]
  },
  {
   "cell_type": "markdown",
   "metadata": {},
   "source": [
    "The format of Vision API Product Search is:\n",
    "\n",
    "* image-uri\n",
    "* image-id*\n",
    "* product-set-id\n",
    "* product-id\n",
    "* product-category\n",
    "* product-display-name*\n",
    "* labels*\n",
    "* bounding-poly*\n"
   ]
  },
  {
   "cell_type": "markdown",
   "metadata": {},
   "source": [
    "With the CSV now created and the images uploaded to a bucket, we can now perform the import of the information into Vision API Product Search.  One way to achieve this is to use `gcloud`.\n",
    "\n",
    "For example:\n",
    "\n",
    "```\n",
    "gcloud beta ml vision product-search product-sets import \n",
    "```"
   ]
  },
  {
   "cell_type": "markdown",
   "metadata": {},
   "source": [
    "!gsutil cp new.csv {gcs_prefix}\n",
    "\n",
    "gsutil cp *.csv gs://kolban-fashion-products"
   ]
  },
  {
   "cell_type": "raw",
   "metadata": {},
   "source": [
    "!gcloud beta ml vision product-search product-sets import {gcs_prefix}/new.csv --location=us-central1"
   ]
  },
  {
   "cell_type": "code",
   "execution_count": null,
   "metadata": {},
   "outputs": [],
   "source": []
  },
  {
   "cell_type": "code",
   "execution_count": null,
   "metadata": {},
   "outputs": [],
   "source": []
  }
 ],
 "metadata": {
  "kernelspec": {
   "display_name": "Python 3",
   "language": "python",
   "name": "python3"
  },
  "language_info": {
   "codemirror_mode": {
    "name": "ipython",
    "version": 3
   },
   "file_extension": ".py",
   "mimetype": "text/x-python",
   "name": "python",
   "nbconvert_exporter": "python",
   "pygments_lexer": "ipython3",
   "version": "3.5.3-final"
  }
 },
 "nbformat": 4,
 "nbformat_minor": 4
}