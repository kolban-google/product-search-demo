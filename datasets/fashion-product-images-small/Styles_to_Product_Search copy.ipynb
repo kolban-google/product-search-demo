{
 "cells": [
  {
   "cell_type": "code",
   "execution_count": null,
   "metadata": {},
   "outputs": [],
   "source": [
    "import pandas as pd\n",
    "import numpy as np"
   ]
  },
  {
   "cell_type": "code",
   "execution_count": null,
   "metadata": {},
   "outputs": [],
   "source": [
    "gcs_prefix = 'gs://kolban-fashion-products'"
   ]
  },
  {
   "cell_type": "code",
   "execution_count": null,
   "metadata": {
    "tags": []
   },
   "outputs": [],
   "source": [
    "data = pd.read_csv('styles.csv',error_bad_lines=False)\n",
    "# We truncate down to 19500 entries because the CSV can only contain 20,000 entries at one time.\n",
    "# Test with only 2000 entries\n",
    "data = data.truncate(after=1999)\n",
    "print(data)"
   ]
  },
  {
   "cell_type": "markdown",
   "metadata": {},
   "source": [
    "The format of Vision API Product Search is:\n",
    "\n",
    "* image-uri\n",
    "* image-id*\n",
    "* product-set-id\n",
    "* product-id\n",
    "* product-category\n",
    "* product-display-name*\n",
    "* labels*\n",
    "* bounding-poly*\n"
   ]
  },
  {
   "cell_type": "code",
   "execution_count": null,
   "metadata": {
    "tags": []
   },
   "outputs": [],
   "source": [
    "# Create a new DataFrame suitable for Vision API Product Search CSV\n",
    "new = pd.DataFrame()\n",
    "new['image-uri']            = gcs_prefix + \"/images/\" + data['id'].astype(str) + \".jpg\"\n",
    "new['image-id']             = ''\n",
    "new['product-set-id']       = 'my_product_set'\n",
    "new['product-id']           = data['id']\n",
    "new['product-category']     = 'apparel-v2'\n",
    "new['product-display-name'] = data['productDisplayName']\n",
    "new['labels']               = ''\n",
    "new['bounding-poly']        = ''\n",
    "print(new)"
   ]
  },
  {
   "cell_type": "code",
   "execution_count": null,
   "metadata": {},
   "outputs": [],
   "source": [
    "new.to_csv('new.csv', index=False)"
   ]
  },
  {
   "cell_type": "markdown",
   "metadata": {},
   "source": [
    "With the CSV now created and the images uploaded to a bucket, we can now perform the import of the information into Vision API Product Search.  One way to achieve this is to use `gcloud`.\n",
    "\n",
    "For example:\n",
    "\n",
    "```\n",
    "gcloud beta ml vision product-search product-sets import \n",
    "```"
   ]
  },
  {
   "cell_type": "markdown",
   "metadata": {},
   "source": [
    "!gsutil cp new.csv {gcs_prefix}"
   ]
  },
  {
   "cell_type": "raw",
   "metadata": {},
   "source": [
    "!gcloud beta ml vision product-search product-sets import {gcs_prefix}/new.csv --location=us-central1"
   ]
  },
  {
   "cell_type": "code",
   "execution_count": null,
   "metadata": {},
   "outputs": [],
   "source": []
  },
  {
   "cell_type": "code",
   "execution_count": null,
   "metadata": {},
   "outputs": [],
   "source": []
  }
 ],
 "metadata": {
  "kernelspec": {
   "display_name": "Python 3",
   "language": "python",
   "name": "python3"
  },
  "language_info": {
   "codemirror_mode": {
    "name": "ipython",
    "version": 3
   },
   "file_extension": ".py",
   "mimetype": "text/x-python",
   "name": "python",
   "nbconvert_exporter": "python",
   "pygments_lexer": "ipython3",
   "version": "3.5.3-final"
  }
 },
 "nbformat": 4,
 "nbformat_minor": 4
}